{
 "cells": [
  {
   "cell_type": "markdown",
   "metadata": {},
   "source": [
    "Geometry Analysis Project - SOlution Given By Dr.Rodgers. "
   ]
  },
  {
   "cell_type": "code",
   "execution_count": 8,
   "metadata": {},
   "outputs": [
    {
     "name": "stdout",
     "output_type": "stream",
     "text": [
      "O to H1 : 0.969\n",
      "O to H2 : 0.969\n",
      "H1 to O : 0.969\n",
      "H2 to O : 0.969\n"
     ]
    }
   ],
   "source": [
    "import numpy\n",
    "import os\n",
    "\n",
    "file_location = os.path.join('data', 'water.xyz')\n",
    "xyz_file = numpy.genfromtxt(fname = file_location, skip_header = 2, dtype = 'unicode')\n",
    "symbols = xyz_file[:,0]\n",
    "coordinates = xyz_file[: , 1:]\n",
    "coordinates = coordinates.astype(numpy.float)             #For loop to find all distances, then eliminate H1 To H2 because there is no bond. \n",
    "num_atoms = len(symbols)\n",
    "for num1 in range(0, num_atoms):\n",
    "    for num2 in range(0, num_atoms):\n",
    "        x_distance = coordinates[num1, 0] - coordinates[num2, 0]\n",
    "        y_distance = coordinates[num1, 1] - coordinates[num2, 1]\n",
    "        z_distance = coordinates[num1, 2] - coordinates[num2, 2]\n",
    "        bond_length_12 = numpy.sqrt(x_distance**2 + y_distance**2 + z_distance**2)\n",
    "        if bond_length_12 > 0 and bond_length_12 < 1.5:\n",
    "            print(F'{symbols[num1]} to {symbols[num2]} : {bond_length_12:.3f}')\n",
    "        \n",
    "        "
   ]
  },
  {
   "cell_type": "code",
   "execution_count": 9,
   "metadata": {},
   "outputs": [],
   "source": [
    "#def function_name(parameters):\n",
    "#    functiobn code goes\n",
    "#    this could be multiple lines\n",
    "#    return value to return"
   ]
  },
  {
   "cell_type": "code",
   "execution_count": 12,
   "metadata": {},
   "outputs": [],
   "source": [
    "def calculate_distance(atom1_coord, atom2_coord):#def is used to create a new function with parameters. We are creating function for distance between atoms.\n",
    "    \"\"\"\n",
    "    This function takes the coordinates of two different atoms and uses the distance formula to calculate the distances between \n",
    "    the atoms in a molecule.\n",
    "    \"\"\"\n",
    "    x_distance = atom1_coord[0] - atom2_coord[0]\n",
    "    y_distance = atom1_coord[1] - atom2_coord[1]\n",
    "    z_distance = atom1_coord[2] - atom2_coord[2]\n",
    "    bond_length_12 = numpy.sqrt(x_distance**2 + y_distance**2 + z_distance**2)\n",
    "    return bond_length_12\n",
    "    "
   ]
  },
  {
   "cell_type": "code",
   "execution_count": 13,
   "metadata": {},
   "outputs": [
    {
     "name": "stdout",
     "output_type": "stream",
     "text": [
      "O to H1 : 0.969\n",
      "O to H2 : 0.969\n"
     ]
    }
   ],
   "source": [
    "num_atoms = len(symbols)      #Using the function to shorten the code in the nested for loop, for convenience. \n",
    "for num1 in range(0, num_atoms):\n",
    "    for num2 in range(0, num_atoms):\n",
    "        if num1 < num2:\n",
    "            bond_length_12 = calculate_distance(coordinates[num1], coordinates[num2])\n",
    "            if bond_length_12 > 0 and bond_length_12 < 1.5:\n",
    "                print(F'{symbols[num1]} to {symbols[num2]} : {bond_length_12:.3f}')\n",
    "        "
   ]
  },
  {
   "cell_type": "code",
   "execution_count": 14,
   "metadata": {},
   "outputs": [
    {
     "name": "stdout",
     "output_type": "stream",
     "text": [
      "Help on function calculate_distance in module __main__:\n",
      "\n",
      "calculate_distance(atom1_coord, atom2_coord)\n",
      "    This function takes the coordinates of two different atoms and uses the distance formula to calculate the distances between \n",
      "    the atoms in a molecule.\n",
      "\n"
     ]
    }
   ],
   "source": [
    "help(calculate_distance)"
   ]
  },
  {
   "cell_type": "code",
   "execution_count": 15,
   "metadata": {},
   "outputs": [],
   "source": [
    "def bond_check(distance):   #Use arbitrary parameter, NOT a variale already contained within code. That might confuse reader. \n",
    "    \"\"\"\n",
    "    This function checks to see if a distance between two atoms is between 0 and 1.5, so that the Hydrogen1 to Hydrogen2 Bond is \n",
    "    not displayed. It returns true or false. \n",
    "    \"\"\"\n",
    "    if distance > 0 and distance < 1.5:\n",
    "        return True\n",
    "    else:\n",
    "        return False\n",
    "      "
   ]
  },
  {
   "cell_type": "code",
   "execution_count": 16,
   "metadata": {},
   "outputs": [
    {
     "name": "stdout",
     "output_type": "stream",
     "text": [
      "false\n"
     ]
    }
   ],
   "source": [
    "bond_check(4)"
   ]
  },
  {
   "cell_type": "code",
   "execution_count": 17,
   "metadata": {},
   "outputs": [
    {
     "name": "stdout",
     "output_type": "stream",
     "text": [
      "false\n"
     ]
    }
   ],
   "source": [
    "bond_check(-1.2)"
   ]
  },
  {
   "cell_type": "code",
   "execution_count": 28,
   "metadata": {},
   "outputs": [],
   "source": [
    "def bond_check(distance, minimum_length = 0, maximum_length = 1.5):   #Use arbitrary parameter, NOT a variale already contained within code. That might confuse reader. \n",
    "    \"\"\"\n",
    "    This function checks to see if a distance between two atoms is between specified minimum and maximum values. It returns true or false.(default 0 angstroms minimum, 1.5 angstroms maximum)\n",
    "    \"\"\"\n",
    "    if distance > minimum_length and distance < maximum_length:\n",
    "        return True\n",
    "    else:\n",
    "        return False\n",
    "      "
   ]
  },
  {
   "cell_type": "code",
   "execution_count": 25,
   "metadata": {},
   "outputs": [
    {
     "data": {
      "text/plain": [
       "False"
      ]
     },
     "execution_count": 25,
     "metadata": {},
     "output_type": "execute_result"
    }
   ],
   "source": [
    "bond_check(5, 0, 1.6)"
   ]
  },
  {
   "cell_type": "code",
   "execution_count": 26,
   "metadata": {},
   "outputs": [
    {
     "data": {
      "text/plain": [
       "True"
      ]
     },
     "execution_count": 26,
     "metadata": {},
     "output_type": "execute_result"
    }
   ],
   "source": [
    "bond_check(1.5, 0, 1.6) #Everything without a default goes before all parameters that have a default. "
   ]
  },
  {
   "cell_type": "code",
   "execution_count": 27,
   "metadata": {},
   "outputs": [
    {
     "data": {
      "text/plain": [
       "True"
      ]
     },
     "execution_count": 27,
     "metadata": {},
     "output_type": "execute_result"
    }
   ],
   "source": [
    "bond_check(1)"
   ]
  },
  {
   "cell_type": "code",
   "execution_count": 30,
   "metadata": {},
   "outputs": [
    {
     "data": {
      "text/plain": [
       "True"
      ]
     },
     "execution_count": 30,
     "metadata": {},
     "output_type": "execute_result"
    }
   ],
   "source": [
    "bond_check(1.5, 0, 1.6)"
   ]
  },
  {
   "cell_type": "code",
   "execution_count": 32,
   "metadata": {},
   "outputs": [
    {
     "name": "stdout",
     "output_type": "stream",
     "text": [
      "O to H1 : 0.969\n",
      "O to H2 : 0.969\n"
     ]
    }
   ],
   "source": [
    "num_atoms = len(symbols)      #Using the function to shorten the code in the nested for loop, for convenience. \n",
    "for num1 in range(0, num_atoms):\n",
    "    for num2 in range(0, num_atoms):\n",
    "        if num1 < num2:\n",
    "            bond_length_12 = calculate_distance(coordinates[num1], coordinates[num2])\n",
    "            if bond_check(bond_length_12) is True:      #Implementing a new Bond_Check Function. \n",
    "                print(F'{symbols[num1]} to {symbols[num2]} : {bond_length_12:.3f}')\n",
    "        "
   ]
  },
  {
   "cell_type": "code",
   "execution_count": 45,
   "metadata": {},
   "outputs": [],
   "source": [
    "def open_xyz(filename):\n",
    "    \"\"\"\n",
    "    This function is to open an xyz file if given the file name as a parameter.\n",
    "    \"\"\"\n",
    "    \n",
    "    file_data = numpy.genfromtxt(fname = file_location, skip_header = 2, dtype = 'unicode' )\n",
    "    symbols = file_data[:,0]\n",
    "    coordinates = file_data[: , 1:]\n",
    "    coordinates = coordinates.astype(numpy.float)\n",
    "    return symbols, coordinates\n",
    "   "
   ]
  },
  {
   "cell_type": "code",
   "execution_count": 42,
   "metadata": {},
   "outputs": [
    {
     "data": {
      "text/plain": [
       "(array(['O', 'H1', 'H2'], dtype='<U9'),\n",
       " array([[ 0.      , -0.007156,  0.965491],\n",
       "        [-0.      ,  0.001486, -0.003471],\n",
       "        [ 0.      ,  0.931026,  1.207929]]))"
      ]
     },
     "execution_count": 42,
     "metadata": {},
     "output_type": "execute_result"
    }
   ],
   "source": [
    "file_location = os.path.join('data', 'water.xyz')\n",
    "open_xyz(file_location)"
   ]
  },
  {
   "cell_type": "code",
   "execution_count": 43,
   "metadata": {},
   "outputs": [
    {
     "data": {
      "text/plain": [
       "(array(['C', 'H', 'C', 'H', 'C', 'H', 'C', 'H', 'C', 'H', 'C', 'H'],\n",
       "       dtype='<U8'), array([[ 0.     ,  1.40272,  0.     ],\n",
       "        [ 0.     ,  2.49029,  0.     ],\n",
       "        [-1.21479,  0.70136,  0.     ],\n",
       "        [-2.15666,  1.24515,  0.     ],\n",
       "        [-1.21479, -0.70136,  0.     ],\n",
       "        [-2.15666, -1.24515,  0.     ],\n",
       "        [ 0.     , -1.40272,  0.     ],\n",
       "        [ 0.     , -2.49029,  0.     ],\n",
       "        [ 1.21479, -0.70136,  0.     ],\n",
       "        [ 2.15666, -1.24515,  0.     ],\n",
       "        [ 1.21479,  0.70136,  0.     ],\n",
       "        [ 2.15666,  1.24515,  0.     ]]))"
      ]
     },
     "execution_count": 43,
     "metadata": {},
     "output_type": "execute_result"
    }
   ],
   "source": [
    "open_xyz('data/benzene.xyz')"
   ]
  },
  {
   "cell_type": "code",
   "execution_count": 48,
   "metadata": {},
   "outputs": [
    {
     "name": "stdout",
     "output_type": "stream",
     "text": [
      "O to H1 : 0.969\n",
      "O to H2 : 0.969\n"
     ]
    }
   ],
   "source": [
    "import numpy\n",
    "import os\n",
    "def calculate_distance(atom1_coord, atom2_coord):#def is used to create a new function with parameters. We are creating function for distance between atoms.\n",
    "    \"\"\"\n",
    "    This function takes the coordinates of two different atoms and uses the distance formula to calculate the distances between \n",
    "    the atoms in a molecule.\n",
    "    \"\"\"\n",
    "    x_distance = atom1_coord[0] - atom2_coord[0]\n",
    "    y_distance = atom1_coord[1] - atom2_coord[1]\n",
    "    z_distance = atom1_coord[2] - atom2_coord[2]\n",
    "    bond_length_12 = numpy.sqrt(x_distance**2 + y_distance**2 + z_distance**2)\n",
    "    return bond_length_12\n",
    "def bond_check(distance):   #Use arbitrary parameter, NOT a variale already contained within code. That might confuse reader. \n",
    "    \"\"\"\n",
    "    This function checks to see if a distance between two atoms is between 0 and 1.5, so that the Hydrogen1 to Hydrogen2 Bond is \n",
    "    not displayed. It returns true or false. \n",
    "    \"\"\"\n",
    "    if distance > 0 and distance < 1.5:\n",
    "        return True\n",
    "    else:\n",
    "        return False\n",
    "    \n",
    "def open_xyz(filename):\n",
    "    \"\"\"\n",
    "    This function is to open an xyz file if given the file name as a parameter.\n",
    "    \"\"\"\n",
    "    \n",
    "    file_data = numpy.genfromtxt(fname = file_location, skip_header = 2, dtype = 'unicode' )\n",
    "    symbols = file_data[:,0]\n",
    "    coordinates = file_data[: , 1:]\n",
    "    coordinates = coordinates.astype(numpy.float)\n",
    "    return symbols, coordinates\n",
    "\n",
    "file_location = os.path.join('data', 'water.xyz')\n",
    "symbols, coord = open_xyz(file_location)\n",
    "num_atoms = len(symbols)\n",
    "for num1 in range(0, num_atoms):\n",
    "    for num2 in range(0, num_atoms):\n",
    "        if num1 < num2:\n",
    "            bond_length_12 = calculate_distance(coord[num1], coord[num2])\n",
    "            if bond_check(bond_length_12) is True:\n",
    "                print(F'{symbols[num1]} to {symbols[num2]} : {bond_length_12:.3f}')\n",
    "            \n"
   ]
  },
  {
   "cell_type": "code",
   "execution_count": null,
   "metadata": {},
   "outputs": [],
   "source": []
  }
 ],
 "metadata": {
  "kernelspec": {
   "display_name": "Python 3",
   "language": "python",
   "name": "python3"
  },
  "language_info": {
   "codemirror_mode": {
    "name": "ipython",
    "version": 3
   },
   "file_extension": ".py",
   "mimetype": "text/x-python",
   "name": "python",
   "nbconvert_exporter": "python",
   "pygments_lexer": "ipython3",
   "version": "3.7.3"
  }
 },
 "nbformat": 4,
 "nbformat_minor": 2
}
