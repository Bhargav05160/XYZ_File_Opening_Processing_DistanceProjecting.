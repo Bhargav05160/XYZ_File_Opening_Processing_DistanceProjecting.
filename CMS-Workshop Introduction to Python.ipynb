{
 "cells": [
  {
   "cell_type": "code",
   "execution_count": 54,
   "metadata": {},
   "outputs": [
    {
     "data": {
      "text/plain": [
       "10"
      ]
     },
     "execution_count": 54,
     "metadata": {},
     "output_type": "execute_result"
    }
   ],
   "source": [
    "3 + 7"
   ]
  },
  {
   "cell_type": "code",
   "execution_count": 55,
   "metadata": {},
   "outputs": [
    {
     "data": {
      "text/plain": [
       "-3640.7000000000003"
      ]
     },
     "execution_count": 55,
     "metadata": {},
     "output_type": "execute_result"
    }
   ],
   "source": [
    "deltaH = -541.5 #kJ/mole\n",
    "deltaS = 10.4 #kJ/mole K\n",
    "temperature = 298 #K\n",
    "deltaG = deltaH - temperature*deltaS\n",
    "deltaG"
   ]
  },
  {
   "cell_type": "code",
   "execution_count": 56,
   "metadata": {},
   "outputs": [
    {
     "data": {
      "text/plain": [
       "-3640700.0000000005"
      ]
     },
     "execution_count": 56,
     "metadata": {},
     "output_type": "execute_result"
    }
   ],
   "source": [
    "deltaG*1000"
   ]
  },
  {
   "cell_type": "code",
   "execution_count": 57,
   "metadata": {},
   "outputs": [
    {
     "data": {
      "text/plain": [
       "-3640700.0000000005"
      ]
     },
     "execution_count": 57,
     "metadata": {},
     "output_type": "execute_result"
    }
   ],
   "source": [
    "deltaG_J = deltaG*1000\n",
    "deltaG_J"
   ]
  },
  {
   "cell_type": "code",
   "execution_count": 58,
   "metadata": {},
   "outputs": [
    {
     "name": "stdout",
     "output_type": "stream",
     "text": [
      "-3640.7000000000003\n",
      "-3640700.0000000005\n"
     ]
    }
   ],
   "source": [
    "print(deltaG) #Python Variables must be changed by overwriting the variable, can not be changed within.\n",
    "print(deltaG_J)"
   ]
  },
  {
   "cell_type": "code",
   "execution_count": 59,
   "metadata": {},
   "outputs": [],
   "source": [
    "deltaH, deltaS, temperature = -541.5, 10.4, 298 #Variables can be assigned all in one line/"
   ]
  },
  {
   "cell_type": "code",
   "execution_count": 60,
   "metadata": {},
   "outputs": [],
   "source": [
    "deltaG = deltaH - temperature*deltaS"
   ]
  },
  {
   "cell_type": "code",
   "execution_count": 61,
   "metadata": {},
   "outputs": [
    {
     "data": {
      "text/plain": [
       "-3640.7000000000003"
      ]
     },
     "execution_count": 61,
     "metadata": {},
     "output_type": "execute_result"
    }
   ],
   "source": [
    "deltaG"
   ]
  },
  {
   "cell_type": "code",
   "execution_count": 62,
   "metadata": {},
   "outputs": [
    {
     "data": {
      "text/plain": [
       "float"
      ]
     },
     "execution_count": 62,
     "metadata": {},
     "output_type": "execute_result"
    }
   ],
   "source": [
    "type(deltaG) #Type command can give you data type if run. "
   ]
  },
  {
   "cell_type": "code",
   "execution_count": 63,
   "metadata": {},
   "outputs": [],
   "source": [
    "deltaG_string = str(deltaG)"
   ]
  },
  {
   "cell_type": "code",
   "execution_count": 64,
   "metadata": {},
   "outputs": [
    {
     "data": {
      "text/plain": [
       "-3640.7000000000003"
      ]
     },
     "execution_count": 64,
     "metadata": {},
     "output_type": "execute_result"
    }
   ],
   "source": [
    "deltaG"
   ]
  },
  {
   "cell_type": "code",
   "execution_count": 65,
   "metadata": {},
   "outputs": [
    {
     "data": {
      "text/plain": [
       "str"
      ]
     },
     "execution_count": 65,
     "metadata": {},
     "output_type": "execute_result"
    }
   ],
   "source": [
    "type(deltaG_string)"
   ]
  },
  {
   "cell_type": "code",
   "execution_count": 66,
   "metadata": {},
   "outputs": [
    {
     "data": {
      "text/plain": [
       "'-3640.7000000000003-3640.7000000000003-3640.7000000000003-3640.7000000000003-3640.7000000000003-3640.7000000000003-3640.7000000000003-3640.7000000000003-3640.7000000000003-3640.7000000000003-3640.7000000000003-3640.7000000000003-3640.7000000000003-3640.7000000000003-3640.7000000000003-3640.7000000000003-3640.7000000000003-3640.7000000000003-3640.7000000000003-3640.7000000000003-3640.7000000000003-3640.7000000000003-3640.7000000000003-3640.7000000000003-3640.7000000000003-3640.7000000000003-3640.7000000000003-3640.7000000000003-3640.7000000000003-3640.7000000000003-3640.7000000000003-3640.7000000000003-3640.7000000000003-3640.7000000000003-3640.7000000000003-3640.7000000000003-3640.7000000000003-3640.7000000000003-3640.7000000000003-3640.7000000000003-3640.7000000000003-3640.7000000000003-3640.7000000000003-3640.7000000000003-3640.7000000000003-3640.7000000000003-3640.7000000000003-3640.7000000000003-3640.7000000000003-3640.7000000000003-3640.7000000000003-3640.7000000000003-3640.7000000000003-3640.7000000000003-3640.7000000000003-3640.7000000000003-3640.7000000000003-3640.7000000000003-3640.7000000000003-3640.7000000000003-3640.7000000000003-3640.7000000000003-3640.7000000000003-3640.7000000000003-3640.7000000000003-3640.7000000000003-3640.7000000000003-3640.7000000000003-3640.7000000000003-3640.7000000000003-3640.7000000000003-3640.7000000000003-3640.7000000000003-3640.7000000000003-3640.7000000000003-3640.7000000000003-3640.7000000000003-3640.7000000000003-3640.7000000000003-3640.7000000000003-3640.7000000000003-3640.7000000000003-3640.7000000000003-3640.7000000000003-3640.7000000000003-3640.7000000000003-3640.7000000000003-3640.7000000000003-3640.7000000000003-3640.7000000000003-3640.7000000000003-3640.7000000000003-3640.7000000000003-3640.7000000000003-3640.7000000000003-3640.7000000000003-3640.7000000000003-3640.7000000000003-3640.7000000000003-3640.7000000000003'"
      ]
     },
     "execution_count": 66,
     "metadata": {},
     "output_type": "execute_result"
    }
   ],
   "source": [
    "deltaG_string*100"
   ]
  },
  {
   "cell_type": "code",
   "execution_count": 67,
   "metadata": {},
   "outputs": [
    {
     "name": "stdout",
     "output_type": "stream",
     "text": [
      "<class 'float'>\n",
      "<class 'str'>\n"
     ]
    }
   ],
   "source": [
    "print(type(deltaG)) #print type commands to see multiple in one line. \n",
    "print(type(deltaG_string))"
   ]
  },
  {
   "cell_type": "code",
   "execution_count": 68,
   "metadata": {},
   "outputs": [],
   "source": [
    "Liszt = [2, 4, 6, 8, 10] #Counting starts at 0 in Python"
   ]
  },
  {
   "cell_type": "code",
   "execution_count": 69,
   "metadata": {},
   "outputs": [
    {
     "data": {
      "text/plain": [
       "2"
      ]
     },
     "execution_count": 69,
     "metadata": {},
     "output_type": "execute_result"
    }
   ],
   "source": [
    "Liszt[0]"
   ]
  },
  {
   "cell_type": "code",
   "execution_count": 70,
   "metadata": {},
   "outputs": [
    {
     "data": {
      "text/plain": [
       "10"
      ]
     },
     "execution_count": 70,
     "metadata": {},
     "output_type": "execute_result"
    }
   ],
   "source": [
    "Liszt[4]"
   ]
  },
  {
   "cell_type": "markdown",
   "metadata": {},
   "source": [
    "#Taking Slices"
   ]
  },
  {
   "cell_type": "code",
   "execution_count": 71,
   "metadata": {},
   "outputs": [
    {
     "data": {
      "text/plain": [
       "[2, 4, 6]"
      ]
     },
     "execution_count": 71,
     "metadata": {},
     "output_type": "execute_result"
    }
   ],
   "source": [
    "#new_liszt = [start:end]\n",
    "new_liszt = Liszt[0:3] #Only includes the elements up to the end element, not the end element itself. \n",
    "new_liszt"
   ]
  },
  {
   "cell_type": "code",
   "execution_count": 72,
   "metadata": {},
   "outputs": [
    {
     "name": "stdout",
     "output_type": "stream",
     "text": [
      "5\n",
      "3\n"
     ]
    }
   ],
   "source": [
    "print(len(Liszt))\n",
    "print(len(new_liszt))"
   ]
  },
  {
   "cell_type": "code",
   "execution_count": 73,
   "metadata": {},
   "outputs": [],
   "source": [
    "slice1 = Liszt[:3]\n",
    "slice2 = new_liszt[1:]"
   ]
  },
  {
   "cell_type": "code",
   "execution_count": 74,
   "metadata": {},
   "outputs": [
    {
     "name": "stdout",
     "output_type": "stream",
     "text": [
      "[4, 6] [2, 4, 6]\n"
     ]
    }
   ],
   "source": [
    "print(slice2, slice1) # starting index- start element to very end. End element-Beginning to end element. "
   ]
  },
  {
   "cell_type": "code",
   "execution_count": 75,
   "metadata": {},
   "outputs": [],
   "source": [
    "#for Multiplication in list_name: \n",
    "    #do things with vaiable"
   ]
  },
  {
   "cell_type": "code",
   "execution_count": 76,
   "metadata": {},
   "outputs": [
    {
     "name": "stdout",
     "output_type": "stream",
     "text": [
      "[6.283185307179586, 12.566370614359172, 18.84955592153876, 25.132741228718345, 31.41592653589793]\n"
     ]
    }
   ],
   "source": [
    "#Appending old list to new list, use newlist.appent(old list)\n",
    "energy_kJ = []\n",
    "for number in Liszt:                         #number represents each value of list. \n",
    "    kJ = number*3.14159265358979323\n",
    "    energy_kJ.append(kJ)\n",
    "    \n",
    "print(energy_kJ)"
   ]
  },
  {
   "cell_type": "code",
   "execution_count": 77,
   "metadata": {},
   "outputs": [
    {
     "name": "stdout",
     "output_type": "stream",
     "text": [
      "[[6.283185307179586, 12.566370614359172, 18.84955592153876, 25.132741228718345, 31.41592653589793], [6.283185307179586, 12.566370614359172, 18.84955592153876, 25.132741228718345, 31.41592653589793], [6.283185307179586, 12.566370614359172, 18.84955592153876, 25.132741228718345, 31.41592653589793], [6.283185307179586, 12.566370614359172, 18.84955592153876, 25.132741228718345, 31.41592653589793]]\n",
      "[[6.283185307179586, 12.566370614359172, 18.84955592153876, 25.132741228718345, 31.41592653589793]]\n"
     ]
    }
   ],
   "source": [
    "pitwo = []\n",
    "pifour_and_above = []\n",
    "for Product in energy_kJ:\n",
    "    if Product<12:\n",
    "        pitwo.append(energy_kJ)\n",
    "    else:\n",
    "        pifour_and_above.append(energy_kJ)\n",
    "    \n",
    "print(pifour_and_above)\n",
    "print(pitwo)"
   ]
  },
  {
   "cell_type": "code",
   "execution_count": null,
   "metadata": {},
   "outputs": [],
   "source": []
  },
  {
   "cell_type": "code",
   "execution_count": null,
   "metadata": {},
   "outputs": [],
   "source": []
  }
 ],
 "metadata": {
  "kernelspec": {
   "display_name": "Python 3",
   "language": "python",
   "name": "python3"
  },
  "language_info": {
   "codemirror_mode": {
    "name": "ipython",
    "version": 3
   },
   "file_extension": ".py",
   "mimetype": "text/x-python",
   "name": "python",
   "nbconvert_exporter": "python",
   "pygments_lexer": "ipython3",
   "version": "3.7.3"
  }
 },
 "nbformat": 4,
 "nbformat_minor": 2
}
