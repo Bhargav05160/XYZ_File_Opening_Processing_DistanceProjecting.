{
 "cells": [
  {
   "cell_type": "markdown",
   "metadata": {},
   "source": [
    "Finding the distances Between Atoms in Molecules."
   ]
  },
  {
   "cell_type": "code",
   "execution_count": 4,
   "metadata": {},
   "outputs": [],
   "source": [
    "import numpy"
   ]
  },
  {
   "cell_type": "code",
   "execution_count": 5,
   "metadata": {},
   "outputs": [
    {
     "name": "stdout",
     "output_type": "stream",
     "text": [
      "data\\water.xyz\n"
     ]
    }
   ],
   "source": [
    "import os\n",
    "\n",
    "molecule_file = os.path.join('data', 'water.xyz')\n",
    "print(molecule_file)"
   ]
  },
  {
   "cell_type": "code",
   "execution_count": 6,
   "metadata": {},
   "outputs": [],
   "source": [
    "molecule_file2 = open(molecule_file, 'r') #Parsing the file with the XYZ Coordinates for atoms in a Water Molecule. "
   ]
  },
  {
   "cell_type": "code",
   "execution_count": 7,
   "metadata": {},
   "outputs": [],
   "source": [
    "molecule_data = molecule_file2.readlines() #Reading the Lines of the data. "
   ]
  },
  {
   "cell_type": "code",
   "execution_count": 8,
   "metadata": {},
   "outputs": [],
   "source": [
    "molecule_file2.close()"
   ]
  },
  {
   "cell_type": "code",
   "execution_count": 9,
   "metadata": {},
   "outputs": [
    {
     "name": "stdout",
     "output_type": "stream",
     "text": [
      "3\n",
      "\n",
      "Water xyz file\n",
      "\n",
      "O        0.000000     -0.007156      0.965491\n",
      "\n",
      "H1      -0.000000      0.001486     -0.003471\n",
      "\n",
      "H2       0.000000      0.931026      1.207929\n",
      "\n"
     ]
    }
   ],
   "source": [
    "for line in molecule_data:\n",
    "    print(line)"
   ]
  },
  {
   "cell_type": "code",
   "execution_count": 10,
   "metadata": {},
   "outputs": [
    {
     "name": "stdout",
     "output_type": "stream",
     "text": [
      "O        0.000000     -0.007156      0.965491\n",
      "\n"
     ]
    }
   ],
   "source": [
    "for line in molecule_data:      #Data separation into Oxygen, Hydrogen1 and Hydogen2 Begins/ \n",
    "    if 'O' in line:\n",
    "        Oxygen_Line = line\n",
    "        print(Oxygen_Line)"
   ]
  },
  {
   "cell_type": "code",
   "execution_count": 11,
   "metadata": {},
   "outputs": [
    {
     "name": "stdout",
     "output_type": "stream",
     "text": [
      "['O', '0.000000', '-0.007156', '0.965491']\n"
     ]
    }
   ],
   "source": [
    "Oxygen_Data = Oxygen_Line.split()\n",
    "print(Oxygen_Data)"
   ]
  },
  {
   "cell_type": "code",
   "execution_count": 12,
   "metadata": {},
   "outputs": [
    {
     "name": "stdout",
     "output_type": "stream",
     "text": [
      "0.0 -0.007156 0.965491\n"
     ]
    }
   ],
   "source": [
    "OxygenX = float(Oxygen_Data[1])\n",
    "OxygenY = float(Oxygen_Data[2])\n",
    "OxygenZ = float(Oxygen_Data[3])\n",
    "print(OxygenX, OxygenY, OxygenZ)"
   ]
  },
  {
   "cell_type": "code",
   "execution_count": 13,
   "metadata": {},
   "outputs": [
    {
     "name": "stdout",
     "output_type": "stream",
     "text": [
      "H1      -0.000000      0.001486     -0.003471\n",
      "\n"
     ]
    }
   ],
   "source": [
    "for line in molecule_data:\n",
    "    if 'H1'in line:\n",
    "        Hydrogen1_Line = line\n",
    "        \n",
    "print(Hydrogen1_Line)"
   ]
  },
  {
   "cell_type": "code",
   "execution_count": 14,
   "metadata": {},
   "outputs": [
    {
     "name": "stdout",
     "output_type": "stream",
     "text": [
      "['H1', '-0.000000', '0.001486', '-0.003471']\n"
     ]
    }
   ],
   "source": [
    "Hydrogen1_Data = Hydrogen1_Line.split()\n",
    "print(Hydrogen1_Data)"
   ]
  },
  {
   "cell_type": "code",
   "execution_count": 15,
   "metadata": {},
   "outputs": [
    {
     "name": "stdout",
     "output_type": "stream",
     "text": [
      "-0.0 0.001486 -0.003471\n"
     ]
    }
   ],
   "source": [
    "Hydrogen1X = float(Hydrogen1_Data[1])\n",
    "Hydrogen1Y = float(Hydrogen1_Data[2])\n",
    "Hydrogen1Z = float(Hydrogen1_Data[3])\n",
    "print(Hydrogen1X, Hydrogen1Y, Hydrogen1Z)\n"
   ]
  },
  {
   "cell_type": "code",
   "execution_count": 16,
   "metadata": {},
   "outputs": [
    {
     "name": "stdout",
     "output_type": "stream",
     "text": [
      "H2       0.000000      0.931026      1.207929\n",
      "\n"
     ]
    }
   ],
   "source": [
    "for line in molecule_data:\n",
    "    if 'H2' in line:\n",
    "        Hydrogen2_Line = line\n",
    "        \n",
    "print(Hydrogen2_Line)"
   ]
  },
  {
   "cell_type": "code",
   "execution_count": 17,
   "metadata": {},
   "outputs": [
    {
     "name": "stdout",
     "output_type": "stream",
     "text": [
      "['H2', '0.000000', '0.931026', '1.207929']\n"
     ]
    }
   ],
   "source": [
    "Hydrogen2_Data = Hydrogen2_Line.split()\n",
    "print(Hydrogen2_Data)"
   ]
  },
  {
   "cell_type": "code",
   "execution_count": 18,
   "metadata": {},
   "outputs": [
    {
     "name": "stdout",
     "output_type": "stream",
     "text": [
      "0.0 0.931026 1.207929\n"
     ]
    }
   ],
   "source": [
    "Hydrogen2X = float(Hydrogen2_Data[1])\n",
    "Hydrogen2Y = float(Hydrogen2_Data[2])\n",
    "Hydrogen2Z = float(Hydrogen2_Data[3])\n",
    "print(Hydrogen2X, Hydrogen2Y, Hydrogen2Z)"
   ]
  },
  {
   "cell_type": "code",
   "execution_count": 19,
   "metadata": {},
   "outputs": [
    {
     "name": "stdout",
     "output_type": "stream",
     "text": [
      "[0.0, -0.0, 0.0]\n",
      "[-0.007156, 0.001486, 0.931026]\n",
      "[0.965491, -0.003471, 1.207929]\n"
     ]
    }
   ],
   "source": [
    "XCoors = [OxygenX, Hydrogen1X, Hydrogen2X]    #Data Manipulation into X, Y, and Z Coordinates of the 3 molecules. \n",
    "YCoors = [OxygenY, Hydrogen1Y, Hydrogen2Y]\n",
    "ZCoors = [OxygenZ, Hydrogen1Z, Hydrogen2Z]\n",
    "print(XCoors)\n",
    "print(YCoors)\n",
    "print(ZCoors)"
   ]
  },
  {
   "cell_type": "code",
   "execution_count": 20,
   "metadata": {},
   "outputs": [
    {
     "name": "stdout",
     "output_type": "stream",
     "text": [
      "1.52693633514957\n"
     ]
    }
   ],
   "source": [
    "H1_To_H2 = numpy.sqrt((XCoors[1] - XCoors[2])**2 + (YCoors[1] - YCoors[2])**2 + (ZCoors[1] - ZCoors[2])**2) #Applying the distance formula directly on the coordinates of the 3 atoms, finding the distances between all three atoms. \n",
    "print(H1_To_H2)"
   ]
  },
  {
   "cell_type": "code",
   "execution_count": 21,
   "metadata": {},
   "outputs": [
    {
     "name": "stdout",
     "output_type": "stream",
     "text": [
      "0.9690003348647513\n"
     ]
    }
   ],
   "source": [
    "O_To_H2 = numpy.sqrt((XCoors[0] - XCoors[2])**2 + (YCoors[0] - YCoors[2])**2 + (ZCoors[0] - ZCoors[2])**2)\n",
    "print(O_To_H2)"
   ]
  },
  {
   "cell_type": "code",
   "execution_count": 22,
   "metadata": {},
   "outputs": [
    {
     "name": "stdout",
     "output_type": "stream",
     "text": [
      "0.9690005374652793\n"
     ]
    }
   ],
   "source": [
    "O_To_H1 = numpy.sqrt((XCoors[0] - XCoors[1])**2 + (YCoors[0] - YCoors[1])**2 + (ZCoors[0] - ZCoors[1])**2)\n",
    "print(O_To_H1)"
   ]
  },
  {
   "cell_type": "code",
   "execution_count": 23,
   "metadata": {},
   "outputs": [],
   "source": [
    "Headers = ['O to H1', 'O to H2', 'H1 to H2']"
   ]
  },
  {
   "cell_type": "code",
   "execution_count": 24,
   "metadata": {},
   "outputs": [
    {
     "name": "stdout",
     "output_type": "stream",
     "text": [
      "O to H10.9690005374652793\n",
      "O to H20.9690003348647513\n",
      "H1 to H21.52693633514957\n"
     ]
    }
   ],
   "source": [
    "print(Headers[0] + str(O_To_H1))    #Printing the results in one cell. Numbers are attached to H1 and H2, so put a space between label and data in your mind. \n",
    "print(Headers[1] + str(O_To_H2))\n",
    "print(Headers[2] + str(H1_To_H2))"
   ]
  },
  {
   "cell_type": "code",
   "execution_count": null,
   "metadata": {},
   "outputs": [],
   "source": []
  }
 ],
 "metadata": {
  "kernelspec": {
   "display_name": "Python 3",
   "language": "python",
   "name": "python3"
  },
  "language_info": {
   "codemirror_mode": {
    "name": "ipython",
    "version": 3
   },
   "file_extension": ".py",
   "mimetype": "text/x-python",
   "name": "python",
   "nbconvert_exporter": "python",
   "pygments_lexer": "ipython3",
   "version": "3.7.3"
  }
 },
 "nbformat": 4,
 "nbformat_minor": 2
}
