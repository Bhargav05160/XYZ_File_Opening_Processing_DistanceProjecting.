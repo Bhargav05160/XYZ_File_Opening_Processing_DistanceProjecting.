{
 "cells": [
  {
   "cell_type": "code",
   "execution_count": 2,
   "metadata": {},
   "outputs": [
    {
     "name": "stdout",
     "output_type": "stream",
     "text": [
      "O to H1 : 0.969\n",
      "O to H2 : 0.969\n"
     ]
    }
   ],
   "source": [
    "import numpy\n",
    "import os\n",
    "def calculate_distance(atom1_coord, atom2_coord):#def is used to create a new function with parameters. We are creating function for distance between atoms.\n",
    "    \"\"\"\n",
    "    This function takes the coordinates of two different atoms and uses the distance formula to calculate the distances between \n",
    "    the atoms in a molecule.\n",
    "    \"\"\"\n",
    "    x_distance = atom1_coord[0] - atom2_coord[0]\n",
    "    y_distance = atom1_coord[1] - atom2_coord[1]\n",
    "    z_distance = atom1_coord[2] - atom2_coord[2]\n",
    "    bond_length_12 = numpy.sqrt(x_distance**2 + y_distance**2 + z_distance**2)\n",
    "    return bond_length_12\n",
    "def bond_check(distance):   #Use arbitrary parameter, NOT a variale already contained within code. That might confuse reader. \n",
    "    \"\"\"\n",
    "    This function checks to see if a distance between two atoms is between 0 and 1.5, so that the Hydrogen1 to Hydrogen2 Bond is \n",
    "    not displayed. It returns true or false. \n",
    "    \"\"\"\n",
    "    if distance > 0 and distance < 1.5:\n",
    "        return True\n",
    "    else:\n",
    "        return False\n",
    "    \n",
    "def open_xyz(filename):\n",
    "    \"\"\"\n",
    "    This function is to open an xyz file if given the file name as a parameter.\n",
    "    \"\"\"\n",
    "    \n",
    "    file_data = numpy.genfromtxt(fname = file_location, skip_header = 2, dtype = 'unicode' )\n",
    "    symbols = file_data[:,0]\n",
    "    coordinates = file_data[: , 1:]\n",
    "    coordinates = coordinates.astype(numpy.float)\n",
    "    return symbols, coordinates\n",
    "\n",
    "file_location = os.path.join('data', 'water.xyz')\n",
    "symbols, coord = open_xyz(file_location)\n",
    "num_atoms = len(symbols)\n",
    "for num1 in range(0, num_atoms):\n",
    "    for num2 in range(0, num_atoms):\n",
    "        if num1 < num2:\n",
    "            bond_length_12 = calculate_distance(coord[num1], coord[num2])\n",
    "            if bond_check(bond_length_12) is True:\n",
    "                print(F'{symbols[num1]} to {symbols[num2]} : {bond_length_12:.3f}')"
   ]
  },
  {
   "cell_type": "code",
   "execution_count": null,
   "metadata": {},
   "outputs": [],
   "source": []
  }
 ],
 "metadata": {
  "kernelspec": {
   "display_name": "Python 3",
   "language": "python",
   "name": "python3"
  },
  "language_info": {
   "codemirror_mode": {
    "name": "ipython",
    "version": 3
   },
   "file_extension": ".py",
   "mimetype": "text/x-python",
   "name": "python",
   "nbconvert_exporter": "python",
   "pygments_lexer": "ipython3",
   "version": "3.7.3"
  }
 },
 "nbformat": 4,
 "nbformat_minor": 2
}
